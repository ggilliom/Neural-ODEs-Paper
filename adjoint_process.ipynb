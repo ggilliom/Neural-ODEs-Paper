{
 "cells": [
  {
   "cell_type": "code",
   "execution_count": 20,
   "id": "88d4efc7",
   "metadata": {},
   "outputs": [],
   "source": [
    "import numpy as np\n",
    "import pandas as pd\n",
    "import seaborn as sns\n",
    "import matplotlib.pyplot as plt\n",
    "import math"
   ]
  },
  {
   "cell_type": "code",
   "execution_count": 21,
   "id": "dca0658f",
   "metadata": {},
   "outputs": [],
   "source": [
    "# y_t is either a vector of the solution equation evaluated at all points t in [0,T] OR\n",
    "# a vector of the approximate solution values to y' = f(y;theta) at all points t in [0,T],\n",
    "# as calculated by our time integrator below\n",
    "# data is of form [(t,y_hat)], where y_hat is a data point collected at time t that should be compared against\n",
    "# y_n[index][1] for each data point as y[n] is of form [(t,y_i)] where y_i is an approx. sol\n",
    "def get_error(y_n,N,T,data):\n",
    "    error = 0\n",
    "    h = T/N # calculate timestep between each data point\n",
    "    print(f\"(N,T,h): ({N},{T},{h})\")\n",
    "    for index, (t,y_hat) in enumerate(data):\n",
    "        print(f\"data: ({y_hat})\")\n",
    "        print(f\"approx (t,y_N):{y_n[N]}\") # y_i\n",
    "        error += (y_n[N*t] - y_hat) ** 2\n",
    "    return error"
   ]
  },
  {
   "cell_type": "code",
   "execution_count": 22,
   "id": "b4c05b56",
   "metadata": {},
   "outputs": [],
   "source": [
    "#### NUMPY VERSION OF EULER'S\n",
    "def forward_solve_euler_numpy(y_0,f,N,T,theta):\n",
    "    sols = np.zeros(N+1)\n",
    "    sols[0] = y_0\n",
    "    h = T/N # timestep length\n",
    "\n",
    "    # Calculate solutions\n",
    "    for i in range(N):\n",
    "        sols[i+1] = sols[i] + h * f(sols[i],theta)\n",
    "\n",
    "    return sols"
   ]
  },
  {
   "cell_type": "code",
   "execution_count": 23,
   "id": "f4586b13",
   "metadata": {},
   "outputs": [],
   "source": [
    "### Euler's Method\n",
    "def forward_solve_euler_method(y_0,f,N,T,theta):\n",
    "    y_ns = [y_0] # initialize with initial value y_0\n",
    "    h = T/N # timestep length\n",
    "    # Calculate solutions\n",
    "    for i in range(N):\n",
    "        y_i_plus_1 = y_ns[i] + h * f(y_ns[i],theta)\n",
    "        y_ns.append(y_i_plus_1)\n",
    "    return y_ns"
   ]
  },
  {
   "cell_type": "code",
   "execution_count": 24,
   "id": "069d6512",
   "metadata": {},
   "outputs": [],
   "source": [
    "# data is of form [(t,y_hat)]\n",
    "# y_n is of form [(t,y_i)] where y_i is an approx. sol\n",
    "# f_partial_y is the partial derivative of the function f w.r.t. y\n",
    "def backward_solve_lagrange(data, y_ns, h, f_partial_y, theta):\n",
    "    y_hat = data[0][1]\n",
    "    y_N = y_ns[-1] # use last y_n as y_N to compute lambda_N\n",
    "    lambda_N = 2 * (y_hat - y_N) ## Define lambda_N from error of (y_N - y^hat)^2\n",
    "    lambda_ns = [lambda_N] ## Initialize lambda list\n",
    "    y_ns_rev = y_ns[:-1][::-1] # Remove y_N; reverse y_ns to work backward\n",
    "    for y_j in y_ns_rev:\n",
    "        lambda_j = lambda_ns[0] # lambda_j is first element of list\n",
    "        lambda_j_minus_1 = lambda_j + (lambda_j * h * f_partial_y(y_j,theta))\n",
    "        lambda_ns = [lambda_j_minus_1] + lambda_ns # Add lambda_j_minus_1 to beginning of lambda_ns\n",
    "    return lambda_ns"
   ]
  },
  {
   "cell_type": "code",
   "execution_count": 25,
   "id": "85818235",
   "metadata": {},
   "outputs": [],
   "source": [
    "# data is of form [(t,y_j)] where y_j is an approx. sol\n",
    "# lambda_ns is of form [lambda_j]; y_ns is of form [y_j]\n",
    "# f_partial_theta is the partial derivative of the function f(y;theta) w.r.t. theta\n",
    "def L_partial_theta(lambda_ns, h, T, N, f_partial_theta, y_ns, theta):\n",
    "    grad = 0\n",
    "    for j in range(1,N+1):\n",
    "        grad += -1 * lambda_ns[j] * h * f_partial_theta(y_ns[j-1],theta)\n",
    "    return grad"
   ]
  },
  {
   "cell_type": "code",
   "execution_count": 26,
   "id": "0aac0c94",
   "metadata": {},
   "outputs": [],
   "source": [
    "def gradient_descent(theta_init, M, alpha, data, y_0, f, f_partial_y, f_partial_theta, T, N):\n",
    "    theta_i = theta_init\n",
    "    gradient = 0\n",
    "    for i in range(M):\n",
    "        gradient = get_gradient(theta_i, data, y_0, f, f_partial_y, f_partial_theta, T, N)\n",
    "        theta_i = theta_i + (-1 * alpha * gradient)\n",
    "    return theta_i"
   ]
  },
  {
   "cell_type": "code",
   "execution_count": 27,
   "id": "8b801ab6",
   "metadata": {},
   "outputs": [
    {
     "ename": "SyntaxError",
     "evalue": "invalid syntax (3114045382.py, line 2)",
     "output_type": "error",
     "traceback": [
      "\u001b[0;36m  File \u001b[0;32m\"/var/folders/k6/q1kyrwrd2h399jd7zf2kq80w0000gn/T/ipykernel_3398/3114045382.py\"\u001b[0;36m, line \u001b[0;32m2\u001b[0m\n\u001b[0;31m    def gradient_descent_general(theta_init,M,alpha,data,y_0,...):\u001b[0m\n\u001b[0m                                                             ^\u001b[0m\n\u001b[0;31mSyntaxError\u001b[0m\u001b[0;31m:\u001b[0m invalid syntax\n"
     ]
    }
   ],
   "source": [
    "# Generalized gradient descent; may require more parameters\n",
    "def gradient_descent_general(theta_init,M,alpha,data,y_0,...):\n",
    "    theta = theta_init\n",
    "    error_partial_theta = 0\n",
    "    for i in range(M): # iterate M times\n",
    "        #get_gradient(...) is a n arbitrary function\n",
    "        error_partial_theta = get_gradient(theta,data,y_0,...)\n",
    "        theta = theta - (alpha * error_partial_theta)\n",
    "    return theta"
   ]
  },
  {
   "cell_type": "code",
   "execution_count": 28,
   "id": "9eed6ce8",
   "metadata": {},
   "outputs": [
    {
     "name": "stdout",
     "output_type": "stream",
     "text": [
      "1.0986122886742775\n"
     ]
    }
   ],
   "source": [
    "import math\n",
    "# Gradient descent for y'= theta * y, data={(1,3)}\n",
    "def gradient_descent_specific(theta_init,M,alpha):\n",
    "    theta = theta_init\n",
    "    error_partial_theta = 0 # initialize gradient variable\n",
    "    for i in range(M): # iterate M times\n",
    "        error_partial_theta = (2 * (math.exp(theta)-3) * math.exp(theta))\n",
    "        theta = theta - alpha * error_partial_theta\n",
    "    return theta\n",
    "print(gradient_descent_specific(7,10000000,.000001))"
   ]
  },
  {
   "cell_type": "code",
   "execution_count": 29,
   "id": "b967c60b",
   "metadata": {},
   "outputs": [],
   "source": [
    "def get_gradient(theta, data, y_0, f, f_partial_y, f_partial_theta, T, N):\n",
    "    y_ns = forward_solve_euler_method(y_0,f,N,T,theta) ## Forward solve for y_ns\n",
    "    #print(len(y_ns))\n",
    "    #print('y_ns',y_ns)\n",
    "    lambda_ns = backward_solve_lagrange(data, y_ns, h, f_partial_y, theta) ## Backward solve for lambda_ns\n",
    "    #print('lambda_ns',lambda_ns)\n",
    "    grad = L_partial_theta(lambda_ns, h, T, N, f_partial_theta, y_ns, theta) ## gradient with y_ns, lambda_ns\n",
    "    return grad"
   ]
  },
  {
   "cell_type": "code",
   "execution_count": 30,
   "id": "ce543d65",
   "metadata": {},
   "outputs": [],
   "source": [
    "def euler_formula(y_0,f,N,T,theta,n):\n",
    "    return (1 + (theta)/N) ** n"
   ]
  },
  {
   "cell_type": "code",
   "execution_count": 31,
   "id": "c7c180fb",
   "metadata": {},
   "outputs": [],
   "source": [
    "def compute_gradient_formula():\n",
    "    pass"
   ]
  },
  {
   "cell_type": "code",
   "execution_count": 32,
   "id": "4330993c",
   "metadata": {},
   "outputs": [],
   "source": [
    "def f_of_y_ex(theta,y):\n",
    "    return theta * y"
   ]
  },
  {
   "cell_type": "code",
   "execution_count": 33,
   "id": "c083cb99",
   "metadata": {},
   "outputs": [],
   "source": [
    "def f_partial_y_ex(y,theta):\n",
    "    return theta"
   ]
  },
  {
   "cell_type": "code",
   "execution_count": 34,
   "id": "6e14eb8b",
   "metadata": {},
   "outputs": [],
   "source": [
    "def f_partial_theta_ex(y,theta):\n",
    "    return y"
   ]
  },
  {
   "cell_type": "code",
   "execution_count": 35,
   "id": "5f2e38b1",
   "metadata": {},
   "outputs": [
    {
     "name": "stdout",
     "output_type": "stream",
     "text": [
      "(N,T,h): (100,1,0.01)\n",
      "data: (3)\n",
      "approx (t,y_N):2.704813829421526\n",
      "error 0.08713487530078405\n"
     ]
    }
   ],
   "source": [
    "#### SET UP ODE\n",
    "theta_init = 1 # single parameter; should be generalized elsewhere\n",
    "f = f_of_y_ex\n",
    "y_prime = f\n",
    "y_0 = 1 ## data point @ t=0, or y(0)\n",
    "\n",
    "#### SET UP DATA\n",
    "data = [(1,3)]\n",
    "\n",
    "'''\n",
    "#### SET UP ACTUAL SOLUTION y(t)\n",
    "c = 1.5\n",
    "y = lambda y: c*y\n",
    "y_t = [y(1),y(2),y(3)]\n",
    "'''\n",
    "\n",
    "#### SET UP EULER TO OBTAIN APPROX SOL\n",
    "N = 100 ## Number of timesteps\n",
    "T = 1 ## set solution time interval as [0,T]\n",
    "h = T/N ## timestep length\n",
    "y_n = forward_solve_euler_method(y_0,f,N,T,theta_init) ## Get approx solution values at each time t in [0,T], where timestep length h is taken between each t\n",
    "\n",
    "euler_y_n = euler_formula(y_0,f,N,T,theta_init,N)\n",
    "#print('y_n approx of y:',y_n)\n",
    "\n",
    "len(y_n)\n",
    "\n",
    "error = get_error(y_n,N,T,data)\n",
    "print('error',error)"
   ]
  },
  {
   "cell_type": "code",
   "execution_count": 36,
   "id": "428698d2",
   "metadata": {},
   "outputs": [
    {
     "name": "stdout",
     "output_type": "stream",
     "text": [
      "lag_grad -1.581036903830964\n"
     ]
    }
   ],
   "source": [
    "lag_grad = get_gradient(theta_init, data, y_0, f, f_partial_y_ex, f_partial_theta_ex, T, N)\n",
    "print('lag_grad',lag_grad)"
   ]
  },
  {
   "cell_type": "code",
   "execution_count": 37,
   "id": "cf5647be",
   "metadata": {},
   "outputs": [
    {
     "name": "stdout",
     "output_type": "stream",
     "text": [
      "1.1046691937853583\n"
     ]
    }
   ],
   "source": [
    "# theta_init defined\n",
    "M = 10000 # Number of iterations of gradient descent\n",
    "alpha = .01 # learning constant\n",
    "# data defined above\n",
    "# y_0 defined above\n",
    "f = f_of_y_ex # f defined above but just redefining for completeness's sake\n",
    "f_partial_y = f_partial_y_ex\n",
    "f_partial_theta = f_partial_theta_ex\n",
    "# T defined above\n",
    "# N defined above\n",
    "optimal_theta = gradient_descent(theta_init, M, alpha, data, y_0, f, f_partial_y, f_partial_theta, T, N)\n",
    "print(optimal_theta)"
   ]
  },
  {
   "cell_type": "code",
   "execution_count": null,
   "id": "cb0c7262",
   "metadata": {},
   "outputs": [],
   "source": []
  },
  {
   "cell_type": "code",
   "execution_count": null,
   "id": "79bb9cdd",
   "metadata": {},
   "outputs": [],
   "source": []
  },
  {
   "cell_type": "code",
   "execution_count": null,
   "id": "0d091a6c",
   "metadata": {},
   "outputs": [],
   "source": []
  }
 ],
 "metadata": {
  "kernelspec": {
   "display_name": "Python 3 (ipykernel)",
   "language": "python",
   "name": "python3"
  },
  "language_info": {
   "codemirror_mode": {
    "name": "ipython",
    "version": 3
   },
   "file_extension": ".py",
   "mimetype": "text/x-python",
   "name": "python",
   "nbconvert_exporter": "python",
   "pygments_lexer": "ipython3",
   "version": "3.8.3"
  }
 },
 "nbformat": 4,
 "nbformat_minor": 5
}
