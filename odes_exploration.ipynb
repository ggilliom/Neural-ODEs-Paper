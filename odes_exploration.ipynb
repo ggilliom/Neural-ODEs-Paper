{
 "cells": [
  {
   "cell_type": "code",
   "execution_count": 1,
   "id": "c80738c7",
   "metadata": {},
   "outputs": [],
   "source": [
    "import numpy as np\n",
    "import pandas as pd\n",
    "import seaborn as sns\n",
    "import matplotlib.pyplot as plt"
   ]
  },
  {
   "cell_type": "code",
   "execution_count": 2,
   "id": "87d861c4",
   "metadata": {},
   "outputs": [],
   "source": [
    "# for y' = f(y)\n",
    "def euler_method(y_0,f,N,M,theta):\n",
    "    y_ns = np.zeros(N+1)\n",
    "    y_ns[0] = y_0\n",
    "    h = M/N # timestep length\n",
    "    # Calculate solutions:\n",
    "    for i in range(N):\n",
    "        y_ns[i+1] = y_ns[i] + h * f(y_ns[i],theta)\n",
    "    return y_ns"
   ]
  },
  {
   "cell_type": "code",
   "execution_count": 3,
   "id": "30fc3bfa",
   "metadata": {},
   "outputs": [],
   "source": [
    "# for y' = f(y)\n",
    "def rk4_method(y_0,f,N,M):\n",
    "    sols = np.zeros(N+1)\n",
    "    sols[0] = y_0\n",
    "    h = M/N # timestep length\n",
    "\n",
    "    # Calculate solutions\n",
    "    for i in range(N):\n",
    "        k1 = h * f(sols[i])\n",
    "        k2 = h * f(sols[i] + ((1/2) * k1))\n",
    "        k3 = h * f(sols[i] + ((1/2) * k2))\n",
    "        k4 = h * f(sols[i] + (1 * k3))\n",
    "        sols[i+1] = sols[i] + (1/6) * (k1 + (2 * k2) + (2 * k3) + k4)\n",
    "\n",
    "    return sols"
   ]
  },
  {
   "cell_type": "code",
   "execution_count": 4,
   "id": "12b10238",
   "metadata": {},
   "outputs": [],
   "source": [
    "def get_true_sol(y_0,y,N,M):\n",
    "    true_sols = np.zeros(N+1)\n",
    "    h = M/N\n",
    "    t = 0\n",
    "    for i in range(N+1):\n",
    "        true_sols[i] = y_0 * y(t)\n",
    "        t += h\n",
    "    return true_sols"
   ]
  },
  {
   "cell_type": "code",
   "execution_count": 5,
   "id": "2d6624e7",
   "metadata": {},
   "outputs": [],
   "source": [
    "# c is parameter, data = [(t_i, y_i)] are vectors/arrays of data\n",
    "def get_error(c,data):\n",
    "    error = 0\n",
    "    for i in range(len(data)):\n",
    "        print(i)\n",
    "        print((np.exp(c*data[i][0]) - data[i][1]) ** 2)\n",
    "        error += (np.exp(c*data[i][0]) - data[i][1]) ** 2\n",
    "    return error"
   ]
  },
  {
   "cell_type": "code",
   "execution_count": 6,
   "id": "1233ba2a",
   "metadata": {},
   "outputs": [],
   "source": [
    "# Only works if y' = f(y) = cy is current ODE\n",
    "def get_error_prime(c,data):\n",
    "    error = 0\n",
    "    for i in range(len(data)):\n",
    "        error += 2 * data[i][0] * np.exp(c * data[i][0]) * (np.exp(c * data[i][0]) - data[i][1])\n",
    "    return error"
   ]
  },
  {
   "cell_type": "code",
   "execution_count": 7,
   "id": "935135eb",
   "metadata": {},
   "outputs": [],
   "source": [
    "# c_init == guess, N == # iterations, alpha == learning step, data == data\n",
    "def gradient_descent(c_init, N, alpha, data):\n",
    "    c_i = c_init\n",
    "    for i in range(N):\n",
    "        c_i = c_i - (alpha * get_error_prime(c_i, data))\n",
    "    return c_i"
   ]
  },
  {
   "cell_type": "code",
   "execution_count": 8,
   "id": "2d3005e8",
   "metadata": {},
   "outputs": [],
   "source": [
    "def run_grad_desc_stuff():\n",
    "    t_0 = 1/2\n",
    "    t_1 = 1.\n",
    "    c_gen = -1\n",
    "    c_true = -1\n",
    "    c_guess = -.5\n",
    "    data = [(t_0,np.exp(c_gen * t_0)), (t_1,np.exp(c_gen * t_1))]\n",
    "    print(data)\n",
    "    c_gd = gradient_descent(c_guess, 100000, .01, data)\n",
    "    print(\"c_gd\",c_gd)\n",
    "    error = get_error(c_true,data)\n",
    "    print('error',error)\n",
    "    error_prime = get_error_prime(c_true, data)\n",
    "    print('error prime', error_prime)"
   ]
  },
  {
   "cell_type": "code",
   "execution_count": 23,
   "id": "48af6d4e",
   "metadata": {},
   "outputs": [],
   "source": [
    "def run_time_integrator_stuff():\n",
    "    # Set up DE to solve:\n",
    "    # y' = f(y), f(y) = cy\n",
    "    c = 3\n",
    "    f_0 = lambda y: c*y\n",
    "    y_true = lambda t: np.exp(c*t)\n",
    "    \n",
    "    # Set up solver parameters\n",
    "    y_0 = 1 # y(0) = 1 (initial condition)\n",
    "    f = f_0 # assign\n",
    "    N = 100 # N timesteps\n",
    "    M = 1 # set solution time interval as [0,M]\n",
    "    h = M/N # timestep length\n",
    "    \n",
    "    # Collect solution data\n",
    "    times = np.arange(0,M+h,h)\n",
    "    euler_sols = euler_method(y_0,f,N,M)\n",
    "    rk4_sols = rk4_method(y_0,f,N,M)\n",
    "    true_sols = get_true_sol(y_0,y_true,N,M)\n",
    "    \n",
    "    # Create DataFrame to store different solutions\n",
    "    sols_dict = {\"true_sols\":true_sols, \"euler_sols\":euler_sols} # add , \"rk4_sols\":rk4_sols for rk4\n",
    "    sols_df = pd.DataFrame(data = sols_dict, index=times)\n",
    "    display(sols_df)\n",
    "    \n",
    "    # Display data in graph format\n",
    "    ax = sns.lineplot(data=sols_df)\n",
    "    ax.set(xlabel='t', ylabel='y(t)')\n",
    "    plt.show()"
   ]
  },
  {
   "cell_type": "code",
   "execution_count": 24,
   "id": "9e41727d",
   "metadata": {},
   "outputs": [
    {
     "data": {
      "text/html": [
       "<div>\n",
       "<style scoped>\n",
       "    .dataframe tbody tr th:only-of-type {\n",
       "        vertical-align: middle;\n",
       "    }\n",
       "\n",
       "    .dataframe tbody tr th {\n",
       "        vertical-align: top;\n",
       "    }\n",
       "\n",
       "    .dataframe thead th {\n",
       "        text-align: right;\n",
       "    }\n",
       "</style>\n",
       "<table border=\"1\" class=\"dataframe\">\n",
       "  <thead>\n",
       "    <tr style=\"text-align: right;\">\n",
       "      <th></th>\n",
       "      <th>true_sols</th>\n",
       "      <th>euler_sols</th>\n",
       "    </tr>\n",
       "  </thead>\n",
       "  <tbody>\n",
       "    <tr>\n",
       "      <th>0.00</th>\n",
       "      <td>1.000000</td>\n",
       "      <td>1.000000</td>\n",
       "    </tr>\n",
       "    <tr>\n",
       "      <th>0.01</th>\n",
       "      <td>1.030455</td>\n",
       "      <td>1.030000</td>\n",
       "    </tr>\n",
       "    <tr>\n",
       "      <th>0.02</th>\n",
       "      <td>1.061837</td>\n",
       "      <td>1.060900</td>\n",
       "    </tr>\n",
       "    <tr>\n",
       "      <th>0.03</th>\n",
       "      <td>1.094174</td>\n",
       "      <td>1.092727</td>\n",
       "    </tr>\n",
       "    <tr>\n",
       "      <th>0.04</th>\n",
       "      <td>1.127497</td>\n",
       "      <td>1.125509</td>\n",
       "    </tr>\n",
       "    <tr>\n",
       "      <th>...</th>\n",
       "      <td>...</td>\n",
       "      <td>...</td>\n",
       "    </tr>\n",
       "    <tr>\n",
       "      <th>0.96</th>\n",
       "      <td>17.814273</td>\n",
       "      <td>17.075506</td>\n",
       "    </tr>\n",
       "    <tr>\n",
       "      <th>0.97</th>\n",
       "      <td>18.356799</td>\n",
       "      <td>17.587771</td>\n",
       "    </tr>\n",
       "    <tr>\n",
       "      <th>0.98</th>\n",
       "      <td>18.915846</td>\n",
       "      <td>18.115404</td>\n",
       "    </tr>\n",
       "    <tr>\n",
       "      <th>0.99</th>\n",
       "      <td>19.491920</td>\n",
       "      <td>18.658866</td>\n",
       "    </tr>\n",
       "    <tr>\n",
       "      <th>1.00</th>\n",
       "      <td>20.085537</td>\n",
       "      <td>19.218632</td>\n",
       "    </tr>\n",
       "  </tbody>\n",
       "</table>\n",
       "<p>101 rows × 2 columns</p>\n",
       "</div>"
      ],
      "text/plain": [
       "      true_sols  euler_sols\n",
       "0.00   1.000000    1.000000\n",
       "0.01   1.030455    1.030000\n",
       "0.02   1.061837    1.060900\n",
       "0.03   1.094174    1.092727\n",
       "0.04   1.127497    1.125509\n",
       "...         ...         ...\n",
       "0.96  17.814273   17.075506\n",
       "0.97  18.356799   17.587771\n",
       "0.98  18.915846   18.115404\n",
       "0.99  19.491920   18.658866\n",
       "1.00  20.085537   19.218632\n",
       "\n",
       "[101 rows x 2 columns]"
      ]
     },
     "metadata": {},
     "output_type": "display_data"
    },
    {
     "data": {
      "image/png": "[encoded data removed]",
      "text/plain": [
       "<Figure size 432x288 with 1 Axes>"
      ]
     },
     "metadata": {
      "needs_background": "light"
     },
     "output_type": "display_data"
    }
   ],
   "source": [
    "run_time_integrator_stuff()"
   ]
  },
  {
   "cell_type": "code",
   "execution_count": null,
   "id": "f65d5e85",
   "metadata": {},
   "outputs": [],
   "source": []
  },
  {
   "cell_type": "code",
   "execution_count": null,
   "id": "7259dc84",
   "metadata": {},
   "outputs": [],
   "source": []
  },
  {
   "cell_type": "code",
   "execution_count": null,
   "id": "ea31d0a4",
   "metadata": {},
   "outputs": [],
   "source": []
  },
  {
   "cell_type": "code",
   "execution_count": null,
   "id": "452e6624",
   "metadata": {},
   "outputs": [],
   "source": []
  },
  {
   "cell_type": "code",
   "execution_count": null,
   "id": "de8cf5e3",
   "metadata": {},
   "outputs": [],
   "source": []
  },
  {
   "cell_type": "code",
   "execution_count": null,
   "id": "5d0b25a1",
   "metadata": {},
   "outputs": [],
   "source": []
  },
  {
   "cell_type": "code",
   "execution_count": null,
   "id": "335d360f",
   "metadata": {},
   "outputs": [],
   "source": []
  }
 ],
 "metadata": {
  "kernelspec": {
   "display_name": "Python 3 (ipykernel)",
   "language": "python",
   "name": "python3"
  },
  "language_info": {
   "codemirror_mode": {
    "name": "ipython",
    "version": 3
   },
   "file_extension": ".py",
   "mimetype": "text/x-python",
   "name": "python",
   "nbconvert_exporter": "python",
   "pygments_lexer": "ipython3",
   "version": "3.8.3"
  }
 },
 "nbformat": 4,
 "nbformat_minor": 5
}
